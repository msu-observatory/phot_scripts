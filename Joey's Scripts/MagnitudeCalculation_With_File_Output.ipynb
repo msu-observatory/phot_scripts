{
 "cells": [
  {
   "cell_type": "markdown",
   "metadata": {},
   "source": [
    "# Michigan State Campus Observatory Submission Script"
   ]
  },
  {
   "cell_type": "markdown",
   "metadata": {},
   "source": [
    "This script was created to take the AstroImageJ excel file, in csv format, and use the AAVSO comparison stars to plot the light curve and create the correct text file with the desired information of the source in AAVSO and CBA format. "
   ]
  },
  {
   "cell_type": "code",
   "execution_count": null,
   "metadata": {},
   "outputs": [],
   "source": [
    "import magnitude_write as mg #input the class created \n",
    "import matplotlib.pyplot as plt #used for the plots\n",
    "import numpy as np  #used for the math\n",
    "\n",
    "%matplotlib inline"
   ]
  },
  {
   "cell_type": "code",
   "execution_count": null,
   "metadata": {},
   "outputs": [],
   "source": [
    "#initializes the class to calculate the magnitudes\n",
    "mag = mg.MagnitudeCalculation()\n",
    "#will prompt for the comparison stars you used and the name of the source\n",
    "#the filter input is not cap sensitive "
   ]
  },
  {
   "cell_type": "code",
   "execution_count": null,
   "metadata": {},
   "outputs": [],
   "source": [
    "#Comparison star information\n",
    "#Currently supports 1-6 comp stars\n",
    "#However, at least 2 comp stars is recommended\n",
    "#NOTE: color correction is not currently supported. When asked if\n",
    "#you are transforming data, type no\n",
    "mag.comp_stars()"
   ]
  },
  {
   "cell_type": "code",
   "execution_count": null,
   "metadata": {},
   "outputs": [],
   "source": [
    "#reads in the csv file\n",
    "#IMPORTANT NOTE: the file MUST be in csv format\n",
    "mag.read_file()  "
   ]
  },
  {
   "cell_type": "code",
   "execution_count": null,
   "metadata": {},
   "outputs": [],
   "source": [
    "#creates lists containing the calculated magnitudes and errors\n",
    "mag_list, error_list = mag.mag_calc()\n",
    "#the output should be close to the magitudes of the comparison stars entered"
   ]
  },
  {
   "cell_type": "code",
   "execution_count": null,
   "metadata": {},
   "outputs": [],
   "source": [
    "#creates plots of the light curves for the magnitude compared to \n",
    "#each comparison star\n",
    "mag.make_plots(mag_list, error_list)"
   ]
  },
  {
   "cell_type": "markdown",
   "metadata": {},
   "source": [
    "# Make Sure the plots look simular before moving on!!"
   ]
  },
  {
   "cell_type": "markdown",
   "metadata": {},
   "source": [
    "### CBA Output \n",
    "Below we will print out the contents of the CBA file. First you are prompted on which comparison star you are using to submit the data, that usually will be comparison star and the check star is usually the second comparison star added. The exposure length to be input should be in seconds, numbers only, and will show up in the header of the file. \n",
    "The file will be in the format of:  ***CBA_SOURCE_DDMMMYYY_Measurements.txt***"
   ]
  },
  {
   "cell_type": "code",
   "execution_count": null,
   "metadata": {
    "scrolled": false
   },
   "outputs": [],
   "source": [
    "#prints the data in CBA format\n",
    "mag.CBA_print(mag_list, error_list)\n",
    "#make sure the data and out put is correct before writing the file\n",
    "#if wrong rerun the cell, if still wrong re-run the notebook"
   ]
  },
  {
   "cell_type": "markdown",
   "metadata": {},
   "source": [
    "### AAVSO Output\n",
    "Below we are going to create the AAVSO output. It will print the first ten data line and the header before writing to a file check that the data looks correct. It will print out a file with the name of AAVSO_SOURCE_DDMMMYYY_Measurements.txt"
   ]
  },
  {
   "cell_type": "code",
   "execution_count": null,
   "metadata": {
    "scrolled": false
   },
   "outputs": [],
   "source": [
    "#prints the data in AAVSO format\n",
    "#NOTE: this requires at least 2 comparison stars\n",
    "mag.AAVSO_print(mag_list, error_list)\n",
    "#if wrong rerun the cell, if still wrong re-run the notebook"
   ]
  }
 ],
 "metadata": {
  "kernelspec": {
   "display_name": "Python 3",
   "language": "python",
   "name": "python3"
  },
  "language_info": {
   "codemirror_mode": {
    "name": "ipython",
    "version": 3
   },
   "file_extension": ".py",
   "mimetype": "text/x-python",
   "name": "python",
   "nbconvert_exporter": "python",
   "pygments_lexer": "ipython3",
   "version": "3.6.5"
  }
 },
 "nbformat": 4,
 "nbformat_minor": 2
}
